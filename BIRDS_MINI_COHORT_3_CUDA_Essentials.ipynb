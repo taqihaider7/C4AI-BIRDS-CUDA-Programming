{
  "nbformat": 4,
  "nbformat_minor": 0,
  "metadata": {
    "colab": {
      "provenance": [],
      "gpuType": "T4",
      "include_colab_link": true
    },
    "kernelspec": {
      "name": "python3",
      "display_name": "Python 3"
    },
    "language_info": {
      "name": "python"
    },
    "accelerator": "GPU"
  },
  "cells": [
    {
      "cell_type": "markdown",
      "metadata": {
        "id": "view-in-github",
        "colab_type": "text"
      },
      "source": [
        "<a href=\"https://colab.research.google.com/github/taqihaider7/C4AI-BIRDS-CUDA-Programming/blob/master/BIRDS_MINI_COHORT_3_CUDA_Essentials.ipynb\" target=\"_parent\"><img src=\"https://colab.research.google.com/assets/colab-badge.svg\" alt=\"Open In Colab\"/></a>"
      ]
    },
    {
      "cell_type": "code",
      "source": [
        "!pip install nvcc4jupyter"
      ],
      "metadata": {
        "id": "T5r8XLVm2xTz",
        "colab": {
          "base_uri": "https://localhost:8080/"
        },
        "outputId": "4dc92ee0-dd1c-46a6-b018-2c45a9ab2b93"
      },
      "execution_count": null,
      "outputs": [
        {
          "output_type": "stream",
          "name": "stdout",
          "text": [
            "Requirement already satisfied: nvcc4jupyter in /usr/local/lib/python3.10/dist-packages (1.2.1)\n"
          ]
        }
      ]
    },
    {
      "cell_type": "code",
      "source": [
        "%load_ext nvcc_plugin"
      ],
      "metadata": {
        "colab": {
          "base_uri": "https://localhost:8080/"
        },
        "id": "wcQpVDuvrSZD",
        "outputId": "ae9e7b06-d16e-4442-b180-5666d22112a5"
      },
      "execution_count": null,
      "outputs": [
        {
          "output_type": "stream",
          "name": "stdout",
          "text": [
            "Detected platform \"Colab\". Running its setup...\n",
            "Source files will be saved in \"/tmp/tmpak7sbk30\".\n"
          ]
        }
      ]
    },
    {
      "cell_type": "code",
      "source": [
        "%%cuda\n",
        "#include <stdio.h>\n",
        "\n",
        "__global__ void hello(){\n",
        "    printf(\"Hello from block: %u, thread: %u\\n\", blockIdx.x, threadIdx.x);\n",
        "}\n",
        "\n",
        "int main(){\n",
        "    hello<<<2, 2>>>();\n",
        "    cudaDeviceSynchronize();\n",
        "}"
      ],
      "metadata": {
        "colab": {
          "base_uri": "https://localhost:8080/"
        },
        "id": "X96eVR_juwQu",
        "outputId": "f7c97f5e-1667-4dfe-ed75-2adec45338c8"
      },
      "execution_count": null,
      "outputs": [
        {
          "output_type": "stream",
          "name": "stdout",
          "text": [
            "Hello from block: 0, thread: 0\n",
            "Hello from block: 0, thread: 1\n",
            "Hello from block: 1, thread: 0\n",
            "Hello from block: 1, thread: 1\n",
            "\n"
          ]
        }
      ]
    },
    {
      "cell_type": "markdown",
      "source": [
        "## Mandatory CUDA Hello World"
      ],
      "metadata": {
        "id": "cccOIY6F2tkF"
      }
    },
    {
      "cell_type": "code",
      "execution_count": null,
      "metadata": {
        "colab": {
          "base_uri": "https://localhost:8080/",
          "height": 104
        },
        "id": "pU6hVmq02nL8",
        "outputId": "d1884709-bc53-4f92-be9f-0768f7f57012"
      },
      "outputs": [
        {
          "output_type": "execute_result",
          "data": {
            "text/plain": [
              "'\\n#include <iostream>\\n#include <cuda_runtime.h>\\n\\nusing namespace std;\\n\\n__global__ void helloFromGPU()\\n{\\n    /*\\n        We can\\'t use cout in device. Why?\\n        Because The GPU does not have access to standard\\n        output streams like std::cout, which are managed\\n        by the host(CPU) operating system.\\n    */\\n    printf(\"Hello World from GPU!\\n\");\\n}\\n\\nint main()\\n{\\n    // Print from host\\n    cout<<\"Hello World from CPU!\"<<\"\\n\";\\n\\n    /*\\n        Launch a kernel on the GPU with one thread to\\n        print from GPU\\n    */\\n    helloFromGPU<<<1, 1>>>();\\n\\n    // Wait for GPU to finish before accessing on host\\n    cudaDeviceSynchronize();\\n\\n    return 0;\\n}\\n'"
            ],
            "application/vnd.google.colaboratory.intrinsic+json": {
              "type": "string"
            }
          },
          "metadata": {},
          "execution_count": 10
        }
      ],
      "source": [
        "! touch hello_world.cu\n",
        "\"\"\"\n",
        "#include <iostream>\n",
        "#include <cuda_runtime.h>\n",
        "\n",
        "using namespace std;\n",
        "\n",
        "__global__ void helloFromGPU()\n",
        "{\n",
        "    /*\n",
        "        We can't use cout in device. Why?\n",
        "        Because The GPU does not have access to standard\n",
        "        output streams like std::cout, which are managed\n",
        "        by the host(CPU) operating system.\n",
        "    */\n",
        "    printf(\"Hello World from GPU!\\n\");\n",
        "}\n",
        "\n",
        "int main()\n",
        "{\n",
        "    // Print from host\n",
        "    cout<<\"Hello World from CPU!\"<<\"\\n\";\n",
        "\n",
        "    /*\n",
        "        Launch a kernel on the GPU with one thread to\n",
        "        print from GPU\n",
        "    */\n",
        "    helloFromGPU<<<1, 1>>>();\n",
        "\n",
        "    // Wait for GPU to finish before accessing on host\n",
        "    cudaDeviceSynchronize();\n",
        "\n",
        "    return 0;\n",
        "}\n",
        "\"\"\""
      ]
    },
    {
      "cell_type": "code",
      "source": [
        "! nvcc hello_world.cu -o hello_world\n",
        "! ./hello_world"
      ],
      "metadata": {
        "colab": {
          "base_uri": "https://localhost:8080/"
        },
        "id": "NLd4TQP336O3",
        "outputId": "0aeca518-7ffd-441a-c25a-eddf60ea9ad8"
      },
      "execution_count": null,
      "outputs": [
        {
          "output_type": "stream",
          "name": "stdout",
          "text": [
            "/usr/bin/ld: /usr/lib/gcc/x86_64-linux-gnu/11/../../../x86_64-linux-gnu/Scrt1.o: in function `_start':\n",
            "(.text+0x1b): undefined reference to `main'\n",
            "collect2: error: ld returned 1 exit status\n",
            "/bin/bash: line 1: ./hello_world: No such file or directory\n"
          ]
        }
      ]
    },
    {
      "cell_type": "code",
      "source": [
        "! touch addition.cu\n",
        "\"\"\"\n",
        "#include <iostream>\n",
        "#include <math.h>\n",
        "\n",
        "// Kernel function to add the elements of two arrays\n",
        "__global__ void add(int n, float *x, float *y)\n",
        "{\n",
        "  int index = blockIdx.x * blockDim.x + threadIdx.x;\n",
        "  int stride = blockDim.x * gridDim.x;\n",
        "  for (int i = index; i < n; i += stride)\n",
        "    y[i] = x[i] + y[i];\n",
        "}\n",
        "\n",
        "int main(void)\n",
        "{\n",
        "  int N = 1<<20;\n",
        "  float *x, *y;\n",
        "\n",
        "  // Allocate Unified Memory – accessible from CPU or GPU\n",
        "  cudaMallocManaged(&x, N*sizeof(float));\n",
        "  cudaMallocManaged(&y, N*sizeof(float));\n",
        "\n",
        "  // initialize x and y arrays on the host\n",
        "  for (int i = 0; i < N; i++) {\n",
        "    x[i] = 1.0f;\n",
        "    y[i] = 2.0f;\n",
        "  }\n",
        "\n",
        "  // Run kernel on 1M elements on the GPU\n",
        "  add<<<3, 256>>>(N, x, y);\n",
        "\n",
        "  // Wait for GPU to finish before accessing on host\n",
        "  cudaDeviceSynchronize();\n",
        "\n",
        "  // Check for errors (all values should be 3.0f)\n",
        "  float maxError = 0.0f;\n",
        "  for (int i = 0; i < N; i++)\n",
        "    maxError = fmax(maxError, fabs(y[i]-3.0f));\n",
        "  std::cout << \"Max error: \" << maxError << std::endl;\n",
        "\n",
        "  // Free memory\n",
        "  cudaFree(x);\n",
        "  cudaFree(y);\n",
        "\n",
        "  return 0;\n",
        "}\n",
        "\"\"\""
      ],
      "metadata": {
        "id": "v1mZMiEW4PyK",
        "colab": {
          "base_uri": "https://localhost:8080/",
          "height": 139
        },
        "outputId": "bebd3ca6-83ec-4804-f892-c23240ca027e"
      },
      "execution_count": null,
      "outputs": [
        {
          "output_type": "execute_result",
          "data": {
            "text/plain": [
              "'\\n#include <iostream>\\n#include <math.h>\\n\\n// Kernel function to add the elements of two arrays\\n__global__ void add(int n, float *x, float *y)\\n{\\n  int index = blockIdx.x * blockDim.x + threadIdx.x;\\n  int stride = blockDim.x * gridDim.x;\\n  for (int i = index; i < n; i += stride)\\n    y[i] = x[i] + y[i];\\n}\\n\\nint main(void)\\n{\\n  int N = 1<<20;\\n  float *x, *y;\\n\\n  // Allocate Unified Memory – accessible from CPU or GPU\\n  cudaMallocManaged(&x, N*sizeof(float));\\n  cudaMallocManaged(&y, N*sizeof(float));\\n\\n  // initialize x and y arrays on the host\\n  for (int i = 0; i < N; i++) {\\n    x[i] = 1.0f;\\n    y[i] = 2.0f;\\n  }\\n\\n  // Run kernel on 1M elements on the GPU\\n  add<<<3, 256>>>(N, x, y);\\n\\n  // Wait for GPU to finish before accessing on host\\n  cudaDeviceSynchronize();\\n\\n  // Check for errors (all values should be 3.0f)\\n  float maxError = 0.0f;\\n  for (int i = 0; i < N; i++)\\n    maxError = fmax(maxError, fabs(y[i]-3.0f));\\n  std::cout << \"Max error: \" << maxError << std::endl;\\n\\n  // Free memory\\n  cudaFree(x);\\n  cudaFree(y);\\n\\n  return 0;\\n}\\n'"
            ],
            "application/vnd.google.colaboratory.intrinsic+json": {
              "type": "string"
            }
          },
          "metadata": {},
          "execution_count": 12
        }
      ]
    },
    {
      "cell_type": "code",
      "source": [
        "! nvcc addition.cu -o addition\n",
        "! ./addition"
      ],
      "metadata": {
        "id": "CrRJEjJKYsTQ",
        "colab": {
          "base_uri": "https://localhost:8080/"
        },
        "outputId": "1df78b89-1faf-4d5c-ede8-4a5d692308e3"
      },
      "execution_count": null,
      "outputs": [
        {
          "output_type": "stream",
          "name": "stdout",
          "text": [
            "/usr/bin/ld: /usr/lib/gcc/x86_64-linux-gnu/11/../../../x86_64-linux-gnu/Scrt1.o: in function `_start':\n",
            "(.text+0x1b): undefined reference to `main'\n",
            "collect2: error: ld returned 1 exit status\n",
            "/bin/bash: line 1: ./addition: No such file or directory\n"
          ]
        }
      ]
    }
  ]
}